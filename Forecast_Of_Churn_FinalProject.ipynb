{
 "cells": [
  {
   "cell_type": "markdown",
   "id": "cc4b9f78",
   "metadata": {},
   "source": [
    "# Forecast Churn of Clients - Telecom Operator Interconnect"
   ]
  },
  {
   "cell_type": "markdown",
   "id": "70cb5276",
   "metadata": {},
   "source": [
    "## Proposed Work Plan"
   ]
  },
  {
   "cell_type": "markdown",
   "id": "c4d25389",
   "metadata": {},
   "source": [
    "In the telecom project, where the objective is to develop a model to predict whether a user will leave the service, the following steps are to be undertaken:\n",
    "\n",
    "1. Data Preprocessing:\n",
    "- Data Cleaning: Handle any inconsistencies, such as duplicate records or erroneous values.\n",
    "- Handling Missing Values: Impute or remove missing data as necessary to ensure data integrity.\n",
    "- Feature Engineering: Create new features or modify existing ones to enhance model performance.\n",
    "- Encoding Categorical Variables: Convert categorical data into a numerical format using techniques such as one-hot encoding.\n",
    "- Normalization/Scaling: Standardize numerical features to ensure they contribute equally to the model.\n",
    "\n",
    "2. Exploratory Data Analysis (EDA):\n",
    "\n",
    "- Descriptive Statistics: Summarize the data to understand its distribution and characteristics.\n",
    "- Visualization: Use charts and graphs to identify patterns, correlations, and outliers.\n",
    "\n",
    "3. Data Splitting:\n",
    "- Divide the dataset into training and testing subsets to evaluate model performance effectively.\n",
    "\n",
    "4. Model Selection:\n",
    "\n",
    "- Choose Algorithms: Select appropriate machine learning algorithms for classification, such as Logistic Regression, Random Forest, or Gradient Boosting.\n",
    "- Training: Train the model on the training subset using the selected algorithms.\n",
    "\n",
    "5. Model Evaluation:\n",
    "\n",
    "- Performance Metrics: Evaluate the model using metrics such as Accuracy, Precision, Recall, and AUC-ROC to measure its effectiveness.\n",
    "- Validation: Use cross-validation techniques to assess the model’s performance and generalizability.\n",
    "\n",
    "\n",
    "6. Reporting and Documentation:\n",
    "\n",
    "- Results: Summarize the model's performance and findings.\n",
    "- Documentation: Provide comprehensive documentation on the model, including its features, performance metrics, and deployment process."
   ]
  },
  {
   "cell_type": "markdown",
   "id": "01dddd72",
   "metadata": {},
   "source": [
    "## Intro"
   ]
  },
  {
   "cell_type": "markdown",
   "id": "5ea18414",
   "metadata": {},
   "source": [
    "The telecom operator Interconnect aims to forecast client churn to offer promotional codes and special plan options to users identified as likely to leave. The marketing team has gathered personal data on their clientele, including details about plans and contracts. In this project, we will develop various machine learning models to predict which customers are likely to stay or leave. We will evaluate these models using AUC-ROC and accuracy metrics, with the 'Endate' column serving as the target feature."
   ]
  },
  {
   "cell_type": "code",
   "execution_count": 1,
   "id": "e42bb193",
   "metadata": {},
   "outputs": [],
   "source": [
    "import pandas as pd\n",
    "from matplotlib import pyplot as plt\n",
    "import seaborn as sns\n",
    "from sklearn.model_selection import train_test_split, cross_val_score\n",
    "from sklearn.linear_model import LogisticRegression\n",
    "from sklearn.ensemble import GradientBoostingClassifier, RandomForestClassifier\n",
    "from sklearn.metrics import roc_auc_score, accuracy_score\n",
    "from sklearn.model_selection import GridSearchCV\n",
    "from sklearn.preprocessing import StandardScaler\n",
    "from imblearn.over_sampling import SMOTE"
   ]
  },
  {
   "cell_type": "code",
   "execution_count": 2,
   "id": "ad9056da",
   "metadata": {},
   "outputs": [],
   "source": [
    "contract_data = pd.read_csv('/Users/monte/Downloads/final_provider/contract.csv')\n",
    "internet_data = pd.read_csv('/Users/monte/Downloads/final_provider/internet.csv')\n",
    "personal_data = pd.read_csv('/Users/monte/Downloads/final_provider/personal.csv')\n",
    "phone_data = pd.read_csv('/Users/monte/Downloads/final_provider/phone.csv')"
   ]
  },
  {
   "cell_type": "markdown",
   "id": "c51dd3e0",
   "metadata": {},
   "source": [
    "First, we need to import the Intercom datasets into the Jupyter notebooks using the Pandas library. The datasets to be imported include phone data, contract data, internet data, and personal data."
   ]
  },
  {
   "cell_type": "markdown",
   "id": "62a7a6fc",
   "metadata": {},
   "source": [
    "### Merging Data"
   ]
  },
  {
   "cell_type": "code",
   "execution_count": 3,
   "id": "d778d330",
   "metadata": {},
   "outputs": [],
   "source": [
    "contract_internet = pd.merge(contract_data, internet_data, on='customerID', how='left')\n",
    "personal_phone = pd.merge(personal_data, phone_data, on='customerID', how='left')\n",
    "customer_data = pd.merge(contract_internet, personal_phone, on='customerID', how='left')"
   ]
  },
  {
   "cell_type": "markdown",
   "id": "2e8252de",
   "metadata": {},
   "source": [
    "After reviewing and analyzing all datasets, we proceeded with the integration process by merging them into a unified dataset. The merge was performed based on the \"CustomerID\" column, which is a common key across all datasets. This approach ensures that customer information is consistently aligned across the various data sources. We used the left merge because it returns all rows from the left DataFrame and the matched rows from the right DataFrame, that way we do not miss any customers since some ID’s may not exist in certain tables. The new dataset was merged into a new dataset named \"customer_data\". "
   ]
  },
  {
   "cell_type": "markdown",
   "id": "4576f7f8",
   "metadata": {},
   "source": [
    "### Renaming Columns"
   ]
  },
  {
   "cell_type": "code",
   "execution_count": 4,
   "id": "0154cc41",
   "metadata": {},
   "outputs": [
    {
     "data": {
      "text/plain": [
       "Index(['customerID', 'BeginDate', 'EndDate', 'Type', 'PaperlessBilling',\n",
       "       'PaymentMethod', 'MonthlyCharges', 'TotalCharges', 'InternetService',\n",
       "       'OnlineSecurity', 'OnlineBackup', 'DeviceProtection', 'TechSupport',\n",
       "       'StreamingTV', 'StreamingMovies', 'gender', 'SeniorCitizen', 'Partner',\n",
       "       'Dependents', 'MultipleLines'],\n",
       "      dtype='object')"
      ]
     },
     "execution_count": 4,
     "metadata": {},
     "output_type": "execute_result"
    }
   ],
   "source": [
    "customer_data.columns"
   ]
  },
  {
   "cell_type": "code",
   "execution_count": 5,
   "id": "f228b533",
   "metadata": {},
   "outputs": [],
   "source": [
    "customer_data = customer_data.rename(columns={\n",
    "    'customerID': 'customer_id',\n",
    "    'BeginDate': 'begin_date',\n",
    "    'EndDate': 'end_date',\n",
    "    'Type': 'type',\n",
    "    'PaperlessBilling': 'paperless_billing',\n",
    "    'PaymentMethod': 'payment_method',\n",
    "    'MonthlyCharges': 'monthly_charges',\n",
    "    'TotalCharges': 'total_charges',\n",
    "    'InternetService': 'internet_service',\n",
    "    'OnlineSecurity': 'online_security',\n",
    "    'OnlineBackup': 'online_backup',\n",
    "    'DeviceProtection': 'device_protection',\n",
    "    'TechSupport': 'tech_support',\n",
    "    'StreamingTV': \"streaming_tv\",\n",
    "    'StreamingMovies': 'streaming_movies',\n",
    "    'gender': \"gender\",\n",
    "    'SeniorCitizen': \"senior_citizen\",\n",
    "    'Partner': 'partner',\n",
    "    'Dependents': 'dependents',\n",
    "    'MultipleLines': 'multiple_lines'\n",
    "})"
   ]
  },
  {
   "cell_type": "code",
   "execution_count": 6,
   "id": "b620a642",
   "metadata": {
    "scrolled": true
   },
   "outputs": [
    {
     "data": {
      "text/plain": [
       "Index(['customer_id', 'begin_date', 'end_date', 'type', 'paperless_billing',\n",
       "       'payment_method', 'monthly_charges', 'total_charges',\n",
       "       'internet_service', 'online_security', 'online_backup',\n",
       "       'device_protection', 'tech_support', 'streaming_tv', 'streaming_movies',\n",
       "       'gender', 'senior_citizen', 'partner', 'dependents', 'multiple_lines'],\n",
       "      dtype='object')"
      ]
     },
     "execution_count": 6,
     "metadata": {},
     "output_type": "execute_result"
    }
   ],
   "source": [
    "customer_data.columns"
   ]
  },
  {
   "cell_type": "markdown",
   "id": "70153cd0",
   "metadata": {},
   "source": [
    "It is considered good practice to standardize column names by replacing spaces with underscores and converting all names to lowercase. This approach enhances readability and ensures consistency across datasets."
   ]
  },
  {
   "cell_type": "markdown",
   "id": "08c09f76",
   "metadata": {},
   "source": [
    "### Checking for Duplicated and Missing Values"
   ]
  },
  {
   "cell_type": "code",
   "execution_count": 7,
   "id": "30735078",
   "metadata": {},
   "outputs": [
    {
     "name": "stdout",
     "output_type": "stream",
     "text": [
      "\n",
      "There are 0 duplicated rows in this unified dataset.\n",
      "\n"
     ]
    }
   ],
   "source": [
    "duplicated_rows = customer_data.duplicated().sum()\n",
    "print(f\"\"\"\n",
    "There are {duplicated_rows} duplicated rows in this unified dataset.\n",
    "\"\"\")"
   ]
  },
  {
   "cell_type": "markdown",
   "id": "51cf4eff",
   "metadata": {},
   "source": [
    "### Checking for missing values"
   ]
  },
  {
   "cell_type": "code",
   "execution_count": 8,
   "id": "a5d7fed1",
   "metadata": {},
   "outputs": [
    {
     "data": {
      "text/plain": [
       "customer_id             0\n",
       "begin_date              0\n",
       "end_date                0\n",
       "type                    0\n",
       "paperless_billing       0\n",
       "payment_method          0\n",
       "monthly_charges         0\n",
       "total_charges           0\n",
       "internet_service     1526\n",
       "online_security      1526\n",
       "online_backup        1526\n",
       "device_protection    1526\n",
       "tech_support         1526\n",
       "streaming_tv         1526\n",
       "streaming_movies     1526\n",
       "gender                  0\n",
       "senior_citizen          0\n",
       "partner                 0\n",
       "dependents              0\n",
       "multiple_lines        682\n",
       "dtype: int64"
      ]
     },
     "execution_count": 8,
     "metadata": {},
     "output_type": "execute_result"
    }
   ],
   "source": [
    "customer_data.isna().sum()"
   ]
  },
  {
   "cell_type": "markdown",
   "id": "97c30a53",
   "metadata": {},
   "source": [
    "After checking for missing values in the columns, you can see that various features have missing data. We can treat these missing cases as that customer not signing up for the specific service, since the features with missing values are services offered by Telecom Operator Interconnect"
   ]
  },
  {
   "cell_type": "code",
   "execution_count": 9,
   "id": "a40f9148",
   "metadata": {},
   "outputs": [],
   "source": [
    "customer_data[['internet_service', 'online_security', 'device_protection', 'tech_support', 'streaming_tv', 'streaming_movies', 'multiple_lines']] = customer_data[['internet_service', 'online_security', 'device_protection', 'tech_support', 'streaming_tv', 'streaming_movies', 'multiple_lines']].fillna(\"No\")"
   ]
  },
  {
   "cell_type": "code",
   "execution_count": 10,
   "id": "81e3b4c3",
   "metadata": {},
   "outputs": [
    {
     "data": {
      "text/plain": [
       "customer_id             0\n",
       "begin_date              0\n",
       "end_date                0\n",
       "type                    0\n",
       "paperless_billing       0\n",
       "payment_method          0\n",
       "monthly_charges         0\n",
       "total_charges           0\n",
       "internet_service        0\n",
       "online_security         0\n",
       "online_backup        1526\n",
       "device_protection       0\n",
       "tech_support            0\n",
       "streaming_tv            0\n",
       "streaming_movies        0\n",
       "gender                  0\n",
       "senior_citizen          0\n",
       "partner                 0\n",
       "dependents              0\n",
       "multiple_lines          0\n",
       "dtype: int64"
      ]
     },
     "execution_count": 10,
     "metadata": {},
     "output_type": "execute_result"
    }
   ],
   "source": [
    "customer_data.isna().sum()"
   ]
  },
  {
   "cell_type": "markdown",
   "id": "a09ed90e",
   "metadata": {},
   "source": [
    "After filling in all the missing values with the value \"No\", we have established that the customers with missing values did not sign up for that specific service, therefore, we filled it in with the Value \"No'."
   ]
  },
  {
   "cell_type": "markdown",
   "id": "edcff1b9",
   "metadata": {},
   "source": [
    "### Converting categorical data to numerical"
   ]
  },
  {
   "cell_type": "code",
   "execution_count": 11,
   "id": "4af4eb4c",
   "metadata": {},
   "outputs": [
    {
     "data": {
      "text/plain": [
       "11"
      ]
     },
     "execution_count": 11,
     "metadata": {},
     "output_type": "execute_result"
    }
   ],
   "source": [
    "customer_data['total_charges'] = pd.to_numeric(customer_data['total_charges'], errors='coerce')\n",
    "customer_data['total_charges'].isna().sum()"
   ]
  },
  {
   "cell_type": "code",
   "execution_count": 12,
   "id": "e58f83fe",
   "metadata": {
    "scrolled": true
   },
   "outputs": [
    {
     "data": {
      "text/html": [
       "<div>\n",
       "<style scoped>\n",
       "    .dataframe tbody tr th:only-of-type {\n",
       "        vertical-align: middle;\n",
       "    }\n",
       "\n",
       "    .dataframe tbody tr th {\n",
       "        vertical-align: top;\n",
       "    }\n",
       "\n",
       "    .dataframe thead th {\n",
       "        text-align: right;\n",
       "    }\n",
       "</style>\n",
       "<table border=\"1\" class=\"dataframe\">\n",
       "  <thead>\n",
       "    <tr style=\"text-align: right;\">\n",
       "      <th></th>\n",
       "      <th>customer_id</th>\n",
       "      <th>begin_date</th>\n",
       "      <th>end_date</th>\n",
       "      <th>type</th>\n",
       "      <th>paperless_billing</th>\n",
       "      <th>payment_method</th>\n",
       "      <th>monthly_charges</th>\n",
       "      <th>total_charges</th>\n",
       "      <th>internet_service</th>\n",
       "      <th>online_security</th>\n",
       "      <th>online_backup</th>\n",
       "      <th>device_protection</th>\n",
       "      <th>tech_support</th>\n",
       "      <th>streaming_tv</th>\n",
       "      <th>streaming_movies</th>\n",
       "      <th>gender</th>\n",
       "      <th>senior_citizen</th>\n",
       "      <th>partner</th>\n",
       "      <th>dependents</th>\n",
       "      <th>multiple_lines</th>\n",
       "    </tr>\n",
       "  </thead>\n",
       "  <tbody>\n",
       "    <tr>\n",
       "      <th>488</th>\n",
       "      <td>4472-LVYGI</td>\n",
       "      <td>2020-02-01</td>\n",
       "      <td>No</td>\n",
       "      <td>Two year</td>\n",
       "      <td>Yes</td>\n",
       "      <td>Bank transfer (automatic)</td>\n",
       "      <td>52.55</td>\n",
       "      <td>NaN</td>\n",
       "      <td>DSL</td>\n",
       "      <td>Yes</td>\n",
       "      <td>No</td>\n",
       "      <td>Yes</td>\n",
       "      <td>Yes</td>\n",
       "      <td>Yes</td>\n",
       "      <td>No</td>\n",
       "      <td>Female</td>\n",
       "      <td>0</td>\n",
       "      <td>Yes</td>\n",
       "      <td>Yes</td>\n",
       "      <td>No</td>\n",
       "    </tr>\n",
       "    <tr>\n",
       "      <th>753</th>\n",
       "      <td>3115-CZMZD</td>\n",
       "      <td>2020-02-01</td>\n",
       "      <td>No</td>\n",
       "      <td>Two year</td>\n",
       "      <td>No</td>\n",
       "      <td>Mailed check</td>\n",
       "      <td>20.25</td>\n",
       "      <td>NaN</td>\n",
       "      <td>No</td>\n",
       "      <td>No</td>\n",
       "      <td>NaN</td>\n",
       "      <td>No</td>\n",
       "      <td>No</td>\n",
       "      <td>No</td>\n",
       "      <td>No</td>\n",
       "      <td>Male</td>\n",
       "      <td>0</td>\n",
       "      <td>No</td>\n",
       "      <td>Yes</td>\n",
       "      <td>No</td>\n",
       "    </tr>\n",
       "    <tr>\n",
       "      <th>936</th>\n",
       "      <td>5709-LVOEQ</td>\n",
       "      <td>2020-02-01</td>\n",
       "      <td>No</td>\n",
       "      <td>Two year</td>\n",
       "      <td>No</td>\n",
       "      <td>Mailed check</td>\n",
       "      <td>80.85</td>\n",
       "      <td>NaN</td>\n",
       "      <td>DSL</td>\n",
       "      <td>Yes</td>\n",
       "      <td>Yes</td>\n",
       "      <td>Yes</td>\n",
       "      <td>No</td>\n",
       "      <td>Yes</td>\n",
       "      <td>Yes</td>\n",
       "      <td>Female</td>\n",
       "      <td>0</td>\n",
       "      <td>Yes</td>\n",
       "      <td>Yes</td>\n",
       "      <td>No</td>\n",
       "    </tr>\n",
       "    <tr>\n",
       "      <th>1082</th>\n",
       "      <td>4367-NUYAO</td>\n",
       "      <td>2020-02-01</td>\n",
       "      <td>No</td>\n",
       "      <td>Two year</td>\n",
       "      <td>No</td>\n",
       "      <td>Mailed check</td>\n",
       "      <td>25.75</td>\n",
       "      <td>NaN</td>\n",
       "      <td>No</td>\n",
       "      <td>No</td>\n",
       "      <td>NaN</td>\n",
       "      <td>No</td>\n",
       "      <td>No</td>\n",
       "      <td>No</td>\n",
       "      <td>No</td>\n",
       "      <td>Male</td>\n",
       "      <td>0</td>\n",
       "      <td>Yes</td>\n",
       "      <td>Yes</td>\n",
       "      <td>Yes</td>\n",
       "    </tr>\n",
       "    <tr>\n",
       "      <th>1340</th>\n",
       "      <td>1371-DWPAZ</td>\n",
       "      <td>2020-02-01</td>\n",
       "      <td>No</td>\n",
       "      <td>Two year</td>\n",
       "      <td>No</td>\n",
       "      <td>Credit card (automatic)</td>\n",
       "      <td>56.05</td>\n",
       "      <td>NaN</td>\n",
       "      <td>DSL</td>\n",
       "      <td>Yes</td>\n",
       "      <td>Yes</td>\n",
       "      <td>Yes</td>\n",
       "      <td>Yes</td>\n",
       "      <td>Yes</td>\n",
       "      <td>No</td>\n",
       "      <td>Female</td>\n",
       "      <td>0</td>\n",
       "      <td>Yes</td>\n",
       "      <td>Yes</td>\n",
       "      <td>No</td>\n",
       "    </tr>\n",
       "    <tr>\n",
       "      <th>3331</th>\n",
       "      <td>7644-OMVMY</td>\n",
       "      <td>2020-02-01</td>\n",
       "      <td>No</td>\n",
       "      <td>Two year</td>\n",
       "      <td>No</td>\n",
       "      <td>Mailed check</td>\n",
       "      <td>19.85</td>\n",
       "      <td>NaN</td>\n",
       "      <td>No</td>\n",
       "      <td>No</td>\n",
       "      <td>NaN</td>\n",
       "      <td>No</td>\n",
       "      <td>No</td>\n",
       "      <td>No</td>\n",
       "      <td>No</td>\n",
       "      <td>Male</td>\n",
       "      <td>0</td>\n",
       "      <td>Yes</td>\n",
       "      <td>Yes</td>\n",
       "      <td>No</td>\n",
       "    </tr>\n",
       "    <tr>\n",
       "      <th>3826</th>\n",
       "      <td>3213-VVOLG</td>\n",
       "      <td>2020-02-01</td>\n",
       "      <td>No</td>\n",
       "      <td>Two year</td>\n",
       "      <td>No</td>\n",
       "      <td>Mailed check</td>\n",
       "      <td>25.35</td>\n",
       "      <td>NaN</td>\n",
       "      <td>No</td>\n",
       "      <td>No</td>\n",
       "      <td>NaN</td>\n",
       "      <td>No</td>\n",
       "      <td>No</td>\n",
       "      <td>No</td>\n",
       "      <td>No</td>\n",
       "      <td>Male</td>\n",
       "      <td>0</td>\n",
       "      <td>Yes</td>\n",
       "      <td>Yes</td>\n",
       "      <td>Yes</td>\n",
       "    </tr>\n",
       "    <tr>\n",
       "      <th>4380</th>\n",
       "      <td>2520-SGTTA</td>\n",
       "      <td>2020-02-01</td>\n",
       "      <td>No</td>\n",
       "      <td>Two year</td>\n",
       "      <td>No</td>\n",
       "      <td>Mailed check</td>\n",
       "      <td>20.00</td>\n",
       "      <td>NaN</td>\n",
       "      <td>No</td>\n",
       "      <td>No</td>\n",
       "      <td>NaN</td>\n",
       "      <td>No</td>\n",
       "      <td>No</td>\n",
       "      <td>No</td>\n",
       "      <td>No</td>\n",
       "      <td>Female</td>\n",
       "      <td>0</td>\n",
       "      <td>Yes</td>\n",
       "      <td>Yes</td>\n",
       "      <td>No</td>\n",
       "    </tr>\n",
       "    <tr>\n",
       "      <th>5218</th>\n",
       "      <td>2923-ARZLG</td>\n",
       "      <td>2020-02-01</td>\n",
       "      <td>No</td>\n",
       "      <td>One year</td>\n",
       "      <td>Yes</td>\n",
       "      <td>Mailed check</td>\n",
       "      <td>19.70</td>\n",
       "      <td>NaN</td>\n",
       "      <td>No</td>\n",
       "      <td>No</td>\n",
       "      <td>NaN</td>\n",
       "      <td>No</td>\n",
       "      <td>No</td>\n",
       "      <td>No</td>\n",
       "      <td>No</td>\n",
       "      <td>Male</td>\n",
       "      <td>0</td>\n",
       "      <td>Yes</td>\n",
       "      <td>Yes</td>\n",
       "      <td>No</td>\n",
       "    </tr>\n",
       "    <tr>\n",
       "      <th>6670</th>\n",
       "      <td>4075-WKNIU</td>\n",
       "      <td>2020-02-01</td>\n",
       "      <td>No</td>\n",
       "      <td>Two year</td>\n",
       "      <td>No</td>\n",
       "      <td>Mailed check</td>\n",
       "      <td>73.35</td>\n",
       "      <td>NaN</td>\n",
       "      <td>DSL</td>\n",
       "      <td>No</td>\n",
       "      <td>Yes</td>\n",
       "      <td>Yes</td>\n",
       "      <td>Yes</td>\n",
       "      <td>Yes</td>\n",
       "      <td>No</td>\n",
       "      <td>Female</td>\n",
       "      <td>0</td>\n",
       "      <td>Yes</td>\n",
       "      <td>Yes</td>\n",
       "      <td>Yes</td>\n",
       "    </tr>\n",
       "    <tr>\n",
       "      <th>6754</th>\n",
       "      <td>2775-SEFEE</td>\n",
       "      <td>2020-02-01</td>\n",
       "      <td>No</td>\n",
       "      <td>Two year</td>\n",
       "      <td>Yes</td>\n",
       "      <td>Bank transfer (automatic)</td>\n",
       "      <td>61.90</td>\n",
       "      <td>NaN</td>\n",
       "      <td>DSL</td>\n",
       "      <td>Yes</td>\n",
       "      <td>Yes</td>\n",
       "      <td>No</td>\n",
       "      <td>Yes</td>\n",
       "      <td>No</td>\n",
       "      <td>No</td>\n",
       "      <td>Male</td>\n",
       "      <td>0</td>\n",
       "      <td>No</td>\n",
       "      <td>Yes</td>\n",
       "      <td>Yes</td>\n",
       "    </tr>\n",
       "  </tbody>\n",
       "</table>\n",
       "</div>"
      ],
      "text/plain": [
       "     customer_id  begin_date end_date      type paperless_billing  \\\n",
       "488   4472-LVYGI  2020-02-01       No  Two year               Yes   \n",
       "753   3115-CZMZD  2020-02-01       No  Two year                No   \n",
       "936   5709-LVOEQ  2020-02-01       No  Two year                No   \n",
       "1082  4367-NUYAO  2020-02-01       No  Two year                No   \n",
       "1340  1371-DWPAZ  2020-02-01       No  Two year                No   \n",
       "3331  7644-OMVMY  2020-02-01       No  Two year                No   \n",
       "3826  3213-VVOLG  2020-02-01       No  Two year                No   \n",
       "4380  2520-SGTTA  2020-02-01       No  Two year                No   \n",
       "5218  2923-ARZLG  2020-02-01       No  One year               Yes   \n",
       "6670  4075-WKNIU  2020-02-01       No  Two year                No   \n",
       "6754  2775-SEFEE  2020-02-01       No  Two year               Yes   \n",
       "\n",
       "                 payment_method  monthly_charges  total_charges  \\\n",
       "488   Bank transfer (automatic)            52.55            NaN   \n",
       "753                Mailed check            20.25            NaN   \n",
       "936                Mailed check            80.85            NaN   \n",
       "1082               Mailed check            25.75            NaN   \n",
       "1340    Credit card (automatic)            56.05            NaN   \n",
       "3331               Mailed check            19.85            NaN   \n",
       "3826               Mailed check            25.35            NaN   \n",
       "4380               Mailed check            20.00            NaN   \n",
       "5218               Mailed check            19.70            NaN   \n",
       "6670               Mailed check            73.35            NaN   \n",
       "6754  Bank transfer (automatic)            61.90            NaN   \n",
       "\n",
       "     internet_service online_security online_backup device_protection  \\\n",
       "488               DSL             Yes            No               Yes   \n",
       "753                No              No           NaN                No   \n",
       "936               DSL             Yes           Yes               Yes   \n",
       "1082               No              No           NaN                No   \n",
       "1340              DSL             Yes           Yes               Yes   \n",
       "3331               No              No           NaN                No   \n",
       "3826               No              No           NaN                No   \n",
       "4380               No              No           NaN                No   \n",
       "5218               No              No           NaN                No   \n",
       "6670              DSL              No           Yes               Yes   \n",
       "6754              DSL             Yes           Yes                No   \n",
       "\n",
       "     tech_support streaming_tv streaming_movies  gender  senior_citizen  \\\n",
       "488           Yes          Yes               No  Female               0   \n",
       "753            No           No               No    Male               0   \n",
       "936            No          Yes              Yes  Female               0   \n",
       "1082           No           No               No    Male               0   \n",
       "1340          Yes          Yes               No  Female               0   \n",
       "3331           No           No               No    Male               0   \n",
       "3826           No           No               No    Male               0   \n",
       "4380           No           No               No  Female               0   \n",
       "5218           No           No               No    Male               0   \n",
       "6670          Yes          Yes               No  Female               0   \n",
       "6754          Yes           No               No    Male               0   \n",
       "\n",
       "     partner dependents multiple_lines  \n",
       "488      Yes        Yes             No  \n",
       "753       No        Yes             No  \n",
       "936      Yes        Yes             No  \n",
       "1082     Yes        Yes            Yes  \n",
       "1340     Yes        Yes             No  \n",
       "3331     Yes        Yes             No  \n",
       "3826     Yes        Yes            Yes  \n",
       "4380     Yes        Yes             No  \n",
       "5218     Yes        Yes             No  \n",
       "6670     Yes        Yes            Yes  \n",
       "6754      No        Yes            Yes  "
      ]
     },
     "execution_count": 12,
     "metadata": {},
     "output_type": "execute_result"
    }
   ],
   "source": [
    "customer_data[customer_data['total_charges'].isna()]"
   ]
  },
  {
   "cell_type": "markdown",
   "id": "b876aee8",
   "metadata": {},
   "source": [
    "The missing values in total_charges pertain to a very small portion of the dataset. Based on our assessment, removing these rows will not significantly impact the overall quality or integrity of the dataset. Since the number of affected rows is minimal, their exclusion is unlikely to affect model performance or lead to significant loss of information.\n",
    "\n",
    "Therefore, we propose dropping these rows with missing total_charges values, as doing so will streamline the dataset without compromising the reliability of our analysis or model. This decision ensures that we maintain a clean and focused dataset while adhering to best practices in data preparation."
   ]
  },
  {
   "cell_type": "code",
   "execution_count": 13,
   "id": "e2ebf462",
   "metadata": {
    "scrolled": true
   },
   "outputs": [
    {
     "data": {
      "text/plain": [
       "0"
      ]
     },
     "execution_count": 13,
     "metadata": {},
     "output_type": "execute_result"
    }
   ],
   "source": [
    "customer_data = customer_data.dropna(subset=['total_charges'])\n",
    "customer_data['total_charges'].isna().sum()"
   ]
  },
  {
   "cell_type": "markdown",
   "id": "d581e4bb",
   "metadata": {},
   "source": [
    "### Feature Engineering"
   ]
  },
  {
   "cell_type": "code",
   "execution_count": 14,
   "id": "25b8dcd4",
   "metadata": {},
   "outputs": [],
   "source": [
    "customer_data = customer_data.drop(['customer_id', 'begin_date', 'type', 'paperless_billing', 'payment_method', 'gender', 'partner', 'senior_citizen', 'dependents'], axis=1)"
   ]
  },
  {
   "cell_type": "markdown",
   "id": "6e974227",
   "metadata": {},
   "source": [
    "After a thorough analysis of the columns in our DataFrame, we identified and removed certain columns that were deemed unnecessary for the development of our machine learning model. This step was taken to streamline the dataset and focus on features that contribute meaningfully to the model's predictive performance."
   ]
  },
  {
   "cell_type": "code",
   "execution_count": 15,
   "id": "a7c40c84",
   "metadata": {},
   "outputs": [
    {
     "data": {
      "text/plain": [
       "churn\n",
       "0    5163\n",
       "1    1869\n",
       "Name: count, dtype: int64"
      ]
     },
     "execution_count": 15,
     "metadata": {},
     "output_type": "execute_result"
    }
   ],
   "source": [
    "customer_data['churn'] = customer_data['end_date'].replace(\"No\", 0)\n",
    "\n",
    "customer_data['churn'] = customer_data['churn'].replace({\n",
    "    '2019-12-01 00:00:00': 1,\n",
    "    '2019-11-01 00:00:00': 1,\n",
    "    '2019-10-01 00:00:00': 1, \n",
    "    '2020-01-01 00:00:00': 1\n",
    "})\n",
    "\n",
    "customer_data['churn'].value_counts()"
   ]
  },
  {
   "cell_type": "code",
   "execution_count": 16,
   "id": "0db6d400",
   "metadata": {},
   "outputs": [],
   "source": [
    "customer_data = customer_data.drop(['end_date'], axis=1)"
   ]
  },
  {
   "cell_type": "code",
   "execution_count": 17,
   "id": "929ab340",
   "metadata": {},
   "outputs": [
    {
     "data": {
      "text/plain": [
       "internet_service\n",
       "1    5512\n",
       "0    1520\n",
       "Name: count, dtype: int64"
      ]
     },
     "execution_count": 17,
     "metadata": {},
     "output_type": "execute_result"
    }
   ],
   "source": [
    "customer_data['internet_service'] = customer_data['internet_service'].replace({\n",
    "    'DSL': 1,\n",
    "    'Fiber optic': 1,\n",
    "    'No': 0\n",
    "})\n",
    "\n",
    "customer_data['internet_service'].value_counts()"
   ]
  },
  {
   "cell_type": "code",
   "execution_count": 18,
   "id": "41f42b52",
   "metadata": {},
   "outputs": [
    {
     "data": {
      "text/plain": [
       "0"
      ]
     },
     "execution_count": 18,
     "metadata": {},
     "output_type": "execute_result"
    }
   ],
   "source": [
    "customer_data['online_backup'] = customer_data['online_backup'].fillna(\"No\")\n",
    "customer_data['online_backup'].isna().sum()"
   ]
  },
  {
   "cell_type": "markdown",
   "id": "e65dd23e",
   "metadata": {},
   "source": [
    "After removing the features that were identified as unnecessary, we addressed the missing values in the remaining features by filling them with 'No', indicating that those customers did not have the corresponding service. This step ensures the completeness of the dataset while maintaining the integrity of the information."
   ]
  },
  {
   "cell_type": "markdown",
   "id": "b2d6a954",
   "metadata": {},
   "source": [
    "### One-hot Encoding"
   ]
  },
  {
   "cell_type": "code",
   "execution_count": 19,
   "id": "858c1889",
   "metadata": {},
   "outputs": [],
   "source": [
    "encoded_data = pd.get_dummies(customer_data, columns=['online_security', 'online_backup', 'device_protection', 'tech_support',\n",
    "                                                     'streaming_tv', 'streaming_movies', 'multiple_lines'])\n",
    "\n"
   ]
  },
  {
   "cell_type": "code",
   "execution_count": 20,
   "id": "b6b55aa2",
   "metadata": {},
   "outputs": [],
   "source": [
    "encoded_data = encoded_data.drop(['online_security_No', 'online_backup_No', 'device_protection_No',\n",
    "                                 'tech_support_No', 'tech_support_No', 'streaming_tv_No',\n",
    "                                 'streaming_movies_No', 'multiple_lines_No'], axis=1)"
   ]
  },
  {
   "cell_type": "markdown",
   "id": "6f4803f1",
   "metadata": {},
   "source": [
    "In this step of the project, we used one-hot encoding using the get_dummies() function to convert our features from categorical to numerical values using 0 for No and 1 for Yes. Also, we deleted collinear features."
   ]
  },
  {
   "cell_type": "markdown",
   "id": "fd59cf68",
   "metadata": {},
   "source": [
    "### Converting New Features to Numerical From Bool"
   ]
  },
  {
   "cell_type": "code",
   "execution_count": 21,
   "id": "07c4d505",
   "metadata": {},
   "outputs": [],
   "source": [
    "for column in encoded_data.columns:\n",
    "    if encoded_data[column].dtype == 'bool':\n",
    "        encoded_data[column] = encoded_data[column].astype(int)"
   ]
  },
  {
   "cell_type": "code",
   "execution_count": 22,
   "id": "46a59ab1",
   "metadata": {
    "scrolled": false
   },
   "outputs": [
    {
     "data": {
      "text/html": [
       "<div>\n",
       "<style scoped>\n",
       "    .dataframe tbody tr th:only-of-type {\n",
       "        vertical-align: middle;\n",
       "    }\n",
       "\n",
       "    .dataframe tbody tr th {\n",
       "        vertical-align: top;\n",
       "    }\n",
       "\n",
       "    .dataframe thead th {\n",
       "        text-align: right;\n",
       "    }\n",
       "</style>\n",
       "<table border=\"1\" class=\"dataframe\">\n",
       "  <thead>\n",
       "    <tr style=\"text-align: right;\">\n",
       "      <th></th>\n",
       "      <th>monthly_charges</th>\n",
       "      <th>total_charges</th>\n",
       "      <th>internet_service</th>\n",
       "      <th>churn</th>\n",
       "      <th>online_security_Yes</th>\n",
       "      <th>online_backup_Yes</th>\n",
       "      <th>device_protection_Yes</th>\n",
       "      <th>tech_support_Yes</th>\n",
       "      <th>streaming_tv_Yes</th>\n",
       "      <th>streaming_movies_Yes</th>\n",
       "      <th>multiple_lines_Yes</th>\n",
       "    </tr>\n",
       "  </thead>\n",
       "  <tbody>\n",
       "    <tr>\n",
       "      <th>0</th>\n",
       "      <td>29.85</td>\n",
       "      <td>29.85</td>\n",
       "      <td>1</td>\n",
       "      <td>0</td>\n",
       "      <td>0</td>\n",
       "      <td>1</td>\n",
       "      <td>0</td>\n",
       "      <td>0</td>\n",
       "      <td>0</td>\n",
       "      <td>0</td>\n",
       "      <td>0</td>\n",
       "    </tr>\n",
       "    <tr>\n",
       "      <th>1</th>\n",
       "      <td>56.95</td>\n",
       "      <td>1889.50</td>\n",
       "      <td>1</td>\n",
       "      <td>0</td>\n",
       "      <td>1</td>\n",
       "      <td>0</td>\n",
       "      <td>1</td>\n",
       "      <td>0</td>\n",
       "      <td>0</td>\n",
       "      <td>0</td>\n",
       "      <td>0</td>\n",
       "    </tr>\n",
       "    <tr>\n",
       "      <th>2</th>\n",
       "      <td>53.85</td>\n",
       "      <td>108.15</td>\n",
       "      <td>1</td>\n",
       "      <td>1</td>\n",
       "      <td>1</td>\n",
       "      <td>1</td>\n",
       "      <td>0</td>\n",
       "      <td>0</td>\n",
       "      <td>0</td>\n",
       "      <td>0</td>\n",
       "      <td>0</td>\n",
       "    </tr>\n",
       "    <tr>\n",
       "      <th>3</th>\n",
       "      <td>42.30</td>\n",
       "      <td>1840.75</td>\n",
       "      <td>1</td>\n",
       "      <td>0</td>\n",
       "      <td>1</td>\n",
       "      <td>0</td>\n",
       "      <td>1</td>\n",
       "      <td>1</td>\n",
       "      <td>0</td>\n",
       "      <td>0</td>\n",
       "      <td>0</td>\n",
       "    </tr>\n",
       "    <tr>\n",
       "      <th>4</th>\n",
       "      <td>70.70</td>\n",
       "      <td>151.65</td>\n",
       "      <td>1</td>\n",
       "      <td>1</td>\n",
       "      <td>0</td>\n",
       "      <td>0</td>\n",
       "      <td>0</td>\n",
       "      <td>0</td>\n",
       "      <td>0</td>\n",
       "      <td>0</td>\n",
       "      <td>0</td>\n",
       "    </tr>\n",
       "    <tr>\n",
       "      <th>...</th>\n",
       "      <td>...</td>\n",
       "      <td>...</td>\n",
       "      <td>...</td>\n",
       "      <td>...</td>\n",
       "      <td>...</td>\n",
       "      <td>...</td>\n",
       "      <td>...</td>\n",
       "      <td>...</td>\n",
       "      <td>...</td>\n",
       "      <td>...</td>\n",
       "      <td>...</td>\n",
       "    </tr>\n",
       "    <tr>\n",
       "      <th>7038</th>\n",
       "      <td>84.80</td>\n",
       "      <td>1990.50</td>\n",
       "      <td>1</td>\n",
       "      <td>0</td>\n",
       "      <td>1</td>\n",
       "      <td>0</td>\n",
       "      <td>1</td>\n",
       "      <td>1</td>\n",
       "      <td>1</td>\n",
       "      <td>1</td>\n",
       "      <td>1</td>\n",
       "    </tr>\n",
       "    <tr>\n",
       "      <th>7039</th>\n",
       "      <td>103.20</td>\n",
       "      <td>7362.90</td>\n",
       "      <td>1</td>\n",
       "      <td>0</td>\n",
       "      <td>0</td>\n",
       "      <td>1</td>\n",
       "      <td>1</td>\n",
       "      <td>0</td>\n",
       "      <td>1</td>\n",
       "      <td>1</td>\n",
       "      <td>1</td>\n",
       "    </tr>\n",
       "    <tr>\n",
       "      <th>7040</th>\n",
       "      <td>29.60</td>\n",
       "      <td>346.45</td>\n",
       "      <td>1</td>\n",
       "      <td>0</td>\n",
       "      <td>1</td>\n",
       "      <td>0</td>\n",
       "      <td>0</td>\n",
       "      <td>0</td>\n",
       "      <td>0</td>\n",
       "      <td>0</td>\n",
       "      <td>0</td>\n",
       "    </tr>\n",
       "    <tr>\n",
       "      <th>7041</th>\n",
       "      <td>74.40</td>\n",
       "      <td>306.60</td>\n",
       "      <td>1</td>\n",
       "      <td>1</td>\n",
       "      <td>0</td>\n",
       "      <td>0</td>\n",
       "      <td>0</td>\n",
       "      <td>0</td>\n",
       "      <td>0</td>\n",
       "      <td>0</td>\n",
       "      <td>1</td>\n",
       "    </tr>\n",
       "    <tr>\n",
       "      <th>7042</th>\n",
       "      <td>105.65</td>\n",
       "      <td>6844.50</td>\n",
       "      <td>1</td>\n",
       "      <td>0</td>\n",
       "      <td>1</td>\n",
       "      <td>0</td>\n",
       "      <td>1</td>\n",
       "      <td>1</td>\n",
       "      <td>1</td>\n",
       "      <td>1</td>\n",
       "      <td>0</td>\n",
       "    </tr>\n",
       "  </tbody>\n",
       "</table>\n",
       "<p>7032 rows × 11 columns</p>\n",
       "</div>"
      ],
      "text/plain": [
       "      monthly_charges  total_charges  internet_service  churn  \\\n",
       "0               29.85          29.85                 1      0   \n",
       "1               56.95        1889.50                 1      0   \n",
       "2               53.85         108.15                 1      1   \n",
       "3               42.30        1840.75                 1      0   \n",
       "4               70.70         151.65                 1      1   \n",
       "...               ...            ...               ...    ...   \n",
       "7038            84.80        1990.50                 1      0   \n",
       "7039           103.20        7362.90                 1      0   \n",
       "7040            29.60         346.45                 1      0   \n",
       "7041            74.40         306.60                 1      1   \n",
       "7042           105.65        6844.50                 1      0   \n",
       "\n",
       "      online_security_Yes  online_backup_Yes  device_protection_Yes  \\\n",
       "0                       0                  1                      0   \n",
       "1                       1                  0                      1   \n",
       "2                       1                  1                      0   \n",
       "3                       1                  0                      1   \n",
       "4                       0                  0                      0   \n",
       "...                   ...                ...                    ...   \n",
       "7038                    1                  0                      1   \n",
       "7039                    0                  1                      1   \n",
       "7040                    1                  0                      0   \n",
       "7041                    0                  0                      0   \n",
       "7042                    1                  0                      1   \n",
       "\n",
       "      tech_support_Yes  streaming_tv_Yes  streaming_movies_Yes  \\\n",
       "0                    0                 0                     0   \n",
       "1                    0                 0                     0   \n",
       "2                    0                 0                     0   \n",
       "3                    1                 0                     0   \n",
       "4                    0                 0                     0   \n",
       "...                ...               ...                   ...   \n",
       "7038                 1                 1                     1   \n",
       "7039                 0                 1                     1   \n",
       "7040                 0                 0                     0   \n",
       "7041                 0                 0                     0   \n",
       "7042                 1                 1                     1   \n",
       "\n",
       "      multiple_lines_Yes  \n",
       "0                      0  \n",
       "1                      0  \n",
       "2                      0  \n",
       "3                      0  \n",
       "4                      0  \n",
       "...                  ...  \n",
       "7038                   1  \n",
       "7039                   1  \n",
       "7040                   0  \n",
       "7041                   1  \n",
       "7042                   0  \n",
       "\n",
       "[7032 rows x 11 columns]"
      ]
     },
     "execution_count": 22,
     "metadata": {},
     "output_type": "execute_result"
    }
   ],
   "source": [
    "encoded_data"
   ]
  },
  {
   "cell_type": "markdown",
   "id": "5372c388",
   "metadata": {},
   "source": [
    "After applying the get_dummies function, the resulting features were initially in boolean format. To prepare these features for use in our machine learning model, we employed a for loop to convert the boolean values into numerical values, ensuring compatibility and optimal performance of the model."
   ]
  },
  {
   "cell_type": "markdown",
   "id": "ca0e4e3f",
   "metadata": {},
   "source": [
    "## Exploratory Data Analysis (EDA):"
   ]
  },
  {
   "cell_type": "code",
   "execution_count": 23,
   "id": "6f2327e0",
   "metadata": {
    "scrolled": true
   },
   "outputs": [
    {
     "data": {
      "image/png": "[encoded data removed]",
      "text/plain": [
       "<Figure size 640x480 with 1 Axes>"
      ]
     },
     "metadata": {},
     "output_type": "display_data"
    }
   ],
   "source": [
    "sns.countplot(x='internet_service', data=encoded_data)\n",
    "plt.title('Accounts with Active Internet Service')\n",
    "plt.xlabel('Accounts with Internet')\n",
    "plt.ylabel('Amount with Active and Inactive Accounts')\n",
    "plt.show()"
   ]
  },
  {
   "cell_type": "code",
   "execution_count": 24,
   "id": "2a8b7fb8",
   "metadata": {
    "scrolled": true
   },
   "outputs": [
    {
     "data": {
      "image/png": "[encoded data removed]",
      "text/plain": [
       "<Figure size 640x480 with 1 Axes>"
      ]
     },
     "metadata": {},
     "output_type": "display_data"
    }
   ],
   "source": [
    "sns.countplot(x='online_backup_Yes', data=encoded_data)\n",
    "plt.title('Customers with Online Backup')\n",
    "plt.xlabel('Accounts with Online Backup')\n",
    "plt.ylabel('Amount with or Without Online Backup')\n",
    "plt.show()"
   ]
  },
  {
   "cell_type": "code",
   "execution_count": 25,
   "id": "db93e1a9",
   "metadata": {
    "scrolled": false
   },
   "outputs": [
    {
     "data": {
      "image/png": "[encoded data removed]",
      "text/plain": [
       "<Figure size 640x480 with 1 Axes>"
      ]
     },
     "metadata": {},
     "output_type": "display_data"
    }
   ],
   "source": [
    "sns.countplot(x='streaming_tv_Yes', data=encoded_data)\n",
    "plt.title('Customers with Streaming TV')\n",
    "plt.xlabel('Accounts with Streaming TV')\n",
    "plt.ylabel('Amount with or Without TV Stream')\n",
    "plt.show()"
   ]
  },
  {
   "cell_type": "markdown",
   "id": "235d39f4",
   "metadata": {},
   "source": [
    "Upon examining the count plots for the columns 'Streaming TV,' 'Online Backup,' and 'Internet Service,' it is evident that the dataset exhibits imbalances. Specifically, the majority of customers have internet service, most do not utilize streaming TV, and a significant proportion do not have online backup services. These imbalances highlight the need for appropriate handling strategies to ensure that these features contribute effectively to the modeling process"
   ]
  },
  {
   "cell_type": "code",
   "execution_count": 26,
   "id": "88f1fbb5",
   "metadata": {
    "scrolled": true
   },
   "outputs": [
    {
     "data": {
      "image/png": "[encoded data removed]",
      "text/plain": [
       "<Figure size 640x480 with 1 Axes>"
      ]
     },
     "metadata": {},
     "output_type": "display_data"
    }
   ],
   "source": [
    "encoded_data['monthly_charges'].plot(\n",
    "kind='hist', edgecolor='black')\n",
    "plt.title(\"Monthly Charge Plot\")\n",
    "plt.ylabel(\"Number of Customers\")\n",
    "plt.xlabel(\"Monthly Charge\")\n",
    "plt.show()"
   ]
  },
  {
   "cell_type": "markdown",
   "id": "5a105bf2",
   "metadata": {},
   "source": [
    "The histogram is right-skewed, meaning there are a few customers with very high monthly charges, while the majority of customers have relatively low monthly charges. This indicates that a small number of customers contribute significantly to the overall revenue."
   ]
  },
  {
   "cell_type": "code",
   "execution_count": 27,
   "id": "c87b59db",
   "metadata": {
    "scrolled": true
   },
   "outputs": [
    {
     "data": {
      "image/png": "[encoded data removed]",
      "text/plain": [
       "<Figure size 640x480 with 1 Axes>"
      ]
     },
     "metadata": {},
     "output_type": "display_data"
    }
   ],
   "source": [
    "encoded_data['total_charges'].plot(\n",
    "kind='hist', edgecolor='black')\n",
    "plt.title(\"Total Charges by Customers\")\n",
    "plt.ylabel(\"Amount of Customers\")\n",
    "plt.xlabel(\"Total Amount\")\n",
    "plt.show()"
   ]
  },
  {
   "cell_type": "markdown",
   "id": "056af4c0",
   "metadata": {},
   "source": [
    "The histogram is right-skewed, meaning there are a few customers with very high total charges, while the majority of customers have relatively low total charges. This indicates that a small number of customers contribute significantly to the overall revenue."
   ]
  },
  {
   "cell_type": "markdown",
   "id": "525dbeb3",
   "metadata": {},
   "source": [
    "### Splitting the Data"
   ]
  },
  {
   "cell_type": "code",
   "execution_count": 28,
   "id": "ff187289",
   "metadata": {},
   "outputs": [],
   "source": [
    "features = encoded_data.drop(['churn'], axis=1)\n",
    "target = encoded_data['churn']\n",
    "\n",
    "X_train, X_valid, y_train, y_valid = train_test_split(features, target, test_size=.3, random_state = 12345)"
   ]
  },
  {
   "cell_type": "markdown",
   "id": "b7137161",
   "metadata": {},
   "source": [
    "### Oversampling using SMOTE"
   ]
  },
  {
   "cell_type": "markdown",
   "id": "ee8696a4",
   "metadata": {},
   "source": [
    "Due to the imbalance present in our dataset, we will apply Synthetic Minority Over-sampling Technique (SMOTE) to address this issue. SMOTE will allow us to generate synthetic samples for the minority class, thereby enhancing the balance of our data and improving the performance of our predictive models."
   ]
  },
  {
   "cell_type": "code",
   "execution_count": 29,
   "id": "994381b3",
   "metadata": {},
   "outputs": [
    {
     "name": "stdout",
     "output_type": "stream",
     "text": [
      "(7260, 10)\n",
      "(7260,)\n"
     ]
    }
   ],
   "source": [
    "smote = SMOTE(random_state=12345)\n",
    "features_resampled, target_resampled = smote.fit_resample(X_train, y_train)\n",
    "\n",
    "print(features_resampled.shape)\n",
    "print(target_resampled.shape)"
   ]
  },
  {
   "cell_type": "markdown",
   "id": "3f1fe347",
   "metadata": {},
   "source": [
    "## Training Different Models"
   ]
  },
  {
   "cell_type": "markdown",
   "id": "d06a78de",
   "metadata": {},
   "source": [
    "### Logistic Regression "
   ]
  },
  {
   "cell_type": "code",
   "execution_count": 30,
   "id": "c84eea94",
   "metadata": {
    "collapsed": true
   },
   "outputs": [
    {
     "name": "stdout",
     "output_type": "stream",
     "text": [
      "\n",
      "Accuracy Score: 0.75\n",
      "\n",
      "\n",
      "Roc_Auc_Score Logistic Regression: 0.72\n",
      "\n"
     ]
    }
   ],
   "source": [
    "logistic = LogisticRegression(solver='liblinear', max_iter=100, class_weight='balanced', random_state=12345)\n",
    "logistic.fit(features_resampled, target_resampled)\n",
    "y_prediction_logistic = logistic.predict(X_valid)\n",
    "roc_auc_logistic = roc_auc_score(y_valid, y_prediction_logistic)\n",
    "accuracy_logistic = accuracy_score(y_valid, y_prediction_logistic)\n",
    "print(f\"\"\"\n",
    "Accuracy Score: {accuracy_logistic:.2f}\n",
    "\"\"\")\n",
    "print(f\"\"\"\n",
    "Roc_Auc_Score Logistic Regression: {roc_auc_logistic:.2f}\n",
    "\"\"\")"
   ]
  },
  {
   "cell_type": "markdown",
   "id": "4c1b2973",
   "metadata": {},
   "source": [
    "### Gradient Boost Classifier"
   ]
  },
  {
   "cell_type": "code",
   "execution_count": 31,
   "id": "20e6406b",
   "metadata": {},
   "outputs": [
    {
     "name": "stdout",
     "output_type": "stream",
     "text": [
      "\n",
      "Test Set Accuracy Score: 0.77\n",
      "Test Set Gradient Boost ROC AUC Score: 0.82\n",
      "\n"
     ]
    }
   ],
   "source": [
    "gradient_boost = GradientBoostingClassifier(n_estimators=100, learning_rate=0.2, max_depth=2, random_state=12345)\n",
    "gradient_boost.fit(features_resampled, target_resampled)\n",
    "y_pred_prob_gradient = gradient_boost.predict_proba(X_valid)[:, 1]\n",
    "roc_auc_test = roc_auc_score(y_valid, y_pred_prob_gradient)\n",
    "accuracy_test = accuracy_score(y_valid, gradient_boost.predict(X_valid))\n",
    "\n",
    "print(f\"\"\"\n",
    "Test Set Accuracy Score: {accuracy_test:.2f}\n",
    "Test Set Gradient Boost ROC AUC Score: {roc_auc_test:.2f}\n",
    "\"\"\")"
   ]
  },
  {
   "cell_type": "markdown",
   "id": "5c87ae99",
   "metadata": {},
   "source": [
    "### Random Forest Classifier"
   ]
  },
  {
   "cell_type": "code",
   "execution_count": 32,
   "id": "1e8d47c4",
   "metadata": {},
   "outputs": [
    {
     "name": "stdout",
     "output_type": "stream",
     "text": [
      "\n",
      "Accuracy Score: 0.76\n",
      "\n",
      "Random Forest ROC-AUC Score: 0.70\n"
     ]
    }
   ],
   "source": [
    "rf_model = RandomForestClassifier(random_state=12345)\n",
    "rf_model.fit(features_resampled, target_resampled)\n",
    "y_pred_rf = rf_model.predict(X_valid)\n",
    "roc_auc_rf = roc_auc_score(y_valid, y_pred_rf)\n",
    "accuracy_rf = accuracy_score(y_pred_rf, y_valid)\n",
    "print(f\"\"\"\n",
    "Accuracy Score: {accuracy_rf:.2f}\n",
    "\"\"\")\n",
    "print(f\"Random Forest ROC-AUC Score: {roc_auc_rf:.2f}\")\n"
   ]
  },
  {
   "cell_type": "markdown",
   "id": "c2490ad1",
   "metadata": {},
   "source": [
    "### Cross Validation"
   ]
  },
  {
   "cell_type": "code",
   "execution_count": 33,
   "id": "4dc435c6",
   "metadata": {
    "scrolled": true
   },
   "outputs": [
    {
     "name": "stdout",
     "output_type": "stream",
     "text": [
      "\n",
      "Cross-Validation ROC AUC Scores: [0.80894406 0.83682524 0.92785955 0.9316645  0.93326864]\n",
      "Mean Cross-Validation ROC AUC Score For Gradient Boost: 0.89\n",
      "\n"
     ]
    }
   ],
   "source": [
    "cv_scores = cross_val_score(gradient_boost, features_resampled, target_resampled, cv=5, scoring='roc_auc')\n",
    "\n",
    "print(f\"\"\"\n",
    "Cross-Validation ROC AUC Scores: {cv_scores}\n",
    "Mean Cross-Validation ROC AUC Score For Gradient Boost: {cv_scores.mean():.2f}\n",
    "\"\"\")"
   ]
  },
  {
   "cell_type": "markdown",
   "id": "5b91d205",
   "metadata": {},
   "source": [
    "## Conclusion"
   ]
  },
  {
   "cell_type": "markdown",
   "id": "cc6e7ba9",
   "metadata": {},
   "source": [
    "Cross-Validation ROC AUC Scores: The scores from cross-validation indicate that the model performs well across different subsets of the training data, with the mean ROC AUC score being 0.89. This suggests that, on average, the model has good discriminative ability across multiple folds of training data.  \n",
    "\n",
    "Test Set ROC AUC Score: The ROC AUC score of 0.82 on the test set is slightly lower than the mean cross-validation score. This difference is expected and reflects the model's performance on a new, unseen dataset. A slight decrease is normal due to the inherent variability between the training data and the test data."
   ]
  },
  {
   "cell_type": "markdown",
   "id": "e52b8d3b",
   "metadata": {},
   "source": [
    "## Report"
   ]
  },
  {
   "cell_type": "markdown",
   "id": "68be4cd8",
   "metadata": {},
   "source": [
    "Upon completing our project, we undertook a series of systematic steps to ensure the robustness and accuracy of our findings.\n",
    "\n",
    "#### Data Processing:\n",
    "\n",
    "- Duplicate and Missing Values: Initially, we checked for duplicate entries and found none. After merging the datasets on the 'customer id' column, we identified missing values in several columns. These missing values corresponded to distinct services that customers had not subscribed to. We filled these missing values as if the customers did not have those services.\n",
    "\n",
    "#### Feature Engineering:\n",
    "\n",
    "- One-Hot Encoding: We employed one-hot encoding to transform categorical features into numerical format.\n",
    "- Collinearity Management: To prevent data leakage, we dropped collinear features.\n",
    "- Numerical Conversion: We converted all retained features into numerical data suitable for machine learning models.\n",
    "\n",
    "#### Handling Imbalanced Data:\n",
    "\n",
    "- Recognizing the imbalance in our dataset, we applied scaling and upsampling techniques to ensure that each feature contributed equally to the model.\n",
    "\n",
    "#### Exploratory Data Analysis (EDA):\n",
    "\n",
    "- We conducted an EDA on the merged and encoded dataset, utilizing various plots to identify patterns and correlations among the customers.\n",
    "\n",
    "#### Data Splitting:\n",
    "\n",
    "- We split the dataset into training and testing subsets using the train_test_split function with a test size of 30%. This step was crucial for evaluating model performance effectively.\n",
    "\n",
    "#### Model Creation and Evaluation:\n",
    "\n",
    "- Given that our task was a classification problem, we developed multiple models, including Logistic Regression, Gradient Boosting Classifier, and Random Forest Classifier.\n",
    "- Among these, the Gradient Boosting Classifier emerged as the best model, achieving a ROC AUC score of 0.82.\n",
    "\n",
    "#### Cross-Validation:\n",
    "\n",
    "- To gain a more reliable estimate of the model’s performance on unseen data, we applied cross-validation to the Gradient Boosting Classifier. This step helped us better understand the model’s generalizability to an independent dataset.\n",
    "\n",
    "By following these steps meticulously, we ensured that our approach was thorough and our results were reliable. The Gradient Boosting Classifier, validated through cross-validation, demonstrated a robust performance, making it the best choice for our classification task."
   ]
  }
 ],
 "metadata": {
  "kernelspec": {
   "display_name": "Python 3 (ipykernel)",
   "language": "python",
   "name": "python3"
  },
  "language_info": {
   "codemirror_mode": {
    "name": "ipython",
    "version": 3
   },
   "file_extension": ".py",
   "mimetype": "text/x-python",
   "name": "python",
   "nbconvert_exporter": "python",
   "pygments_lexer": "ipython3",
   "version": "3.9.19"
  },
  "toc": {
   "base_numbering": 1,
   "nav_menu": {},
   "number_sections": true,
   "sideBar": true,
   "skip_h1_title": true,
   "title_cell": "Table of Contents",
   "title_sidebar": "Contents",
   "toc_cell": false,
   "toc_position": {},
   "toc_section_display": true,
   "toc_window_display": false
  }
 },
 "nbformat": 4,
 "nbformat_minor": 5
}
